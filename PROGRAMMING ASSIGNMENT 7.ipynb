{
 "cells": [
  {
   "cell_type": "markdown",
   "id": "f1ff1010",
   "metadata": {},
   "source": [
    "## 1. Write a Python Program to find sum of array?"
   ]
  },
  {
   "cell_type": "code",
   "execution_count": 1,
   "id": "7696f66f",
   "metadata": {},
   "outputs": [
    {
     "name": "stdout",
     "output_type": "stream",
     "text": [
      "Sum of the array is  56\n"
     ]
    }
   ],
   "source": [
    "import array as ar\n",
    "\n",
    "def SumofArray(arr):\n",
    "    sum=0\n",
    "    n = len(arr)\n",
    "    for i in range(n):\n",
    "        sum = sum + arr[i]\n",
    "    return sum\n",
    "  \n",
    "a = ar.array('i',[10, 21, 12, 13])                #input values to list  \n",
    "print ('Sum of the array is ', SumofArray(a) )    # display sum"
   ]
  },
  {
   "cell_type": "markdown",
   "id": "1c52ab31",
   "metadata": {},
   "source": [
    "## 2. Write a Python Program to find largest element in an array?"
   ]
  },
  {
   "cell_type": "code",
   "execution_count": 2,
   "id": "549b351e",
   "metadata": {},
   "outputs": [
    {
     "name": "stdout",
     "output_type": "stream",
     "text": [
      "Largest element given in array is 67\n"
     ]
    }
   ],
   "source": [
    "def largest(arr,n):\n",
    "   \n",
    "   max = arr[0]\n",
    "  \n",
    "   for i in range(1, n):\n",
    "      if arr[i] > max:\n",
    "         max = arr[i]\n",
    "   return max\n",
    "# Driver Code\n",
    "arr = [23,1,32,67,2,34,12]\n",
    "n = len(arr)\n",
    "Ans = largest(arr,n)\n",
    "print (\"Largest element given in array is\",Ans)"
   ]
  },
  {
   "cell_type": "markdown",
   "id": "889ecf96",
   "metadata": {},
   "source": [
    "## 3. Write a Python Program for array rotation?"
   ]
  },
  {
   "cell_type": "code",
   "execution_count": 3,
   "id": "a8d7a1bc",
   "metadata": {},
   "outputs": [
    {
     "name": "stdout",
     "output_type": "stream",
     "text": [
      "Array after left rotation is:  [3, 4, 5, 6, 7, 1, 2]\n"
     ]
    }
   ],
   "source": [
    "def ArrayRotation(a,d):\n",
    "    temp = []\n",
    "    n=len(a)\n",
    "    for i in range(d,n):\n",
    "        temp.append(a[i])\n",
    "    i = 0\n",
    "    for i in range (0,d):\n",
    "        temp.append(a[i])\n",
    "    a=temp.copy()\n",
    "    return a\n",
    " \n",
    "arr = [1, 2, 3, 4, 5, 6, 7]\n",
    "print(\"Array after left rotation is: \", end=' ')\n",
    "print(ArrayRotation(arr, 2))\n"
   ]
  },
  {
   "cell_type": "markdown",
   "id": "27a747b1",
   "metadata": {},
   "source": [
    "## 4. Write a Python Program to Split the array and add the first part to the end?"
   ]
  },
  {
   "cell_type": "code",
   "execution_count": 5,
   "id": "d9e2efe4",
   "metadata": {},
   "outputs": [
    {
     "name": "stdout",
     "output_type": "stream",
     "text": [
      "5 19 32 44 1 6 "
     ]
    }
   ],
   "source": [
    "def splitArr(arr, n, k): \n",
    "    for i in range(0, k): \n",
    "        x = arr[0]\n",
    "        for j in range(0, n-1):\n",
    "            arr[j] = arr[j + 1]\n",
    "        arr[n-1] = x\n",
    "# main\n",
    "arr = [1, 6, 5, 19, 32, 44]\n",
    "n = len(arr)\n",
    "position = 2\n",
    " \n",
    "splitArr(arr, n, position)\n",
    " \n",
    "for i in range(0, n): \n",
    "    print(arr[i], end = ' ')"
   ]
  },
  {
   "cell_type": "markdown",
   "id": "387a6354",
   "metadata": {},
   "source": [
    "## 5. Write a Python Program to check if given array is Monotonic?"
   ]
  },
  {
   "cell_type": "code",
   "execution_count": 13,
   "id": "bcc5eb6f",
   "metadata": {},
   "outputs": [
    {
     "name": "stdout",
     "output_type": "stream",
     "text": [
      "False\n",
      "False\n",
      "True\n",
      "True\n"
     ]
    }
   ],
   "source": [
    "def ismonotone(a):\n",
    "    n=len(a) #size of array\n",
    "    if n==1:\n",
    "        return True\n",
    "    else:\n",
    "        #check for monotone behaviour\n",
    "        if all(a[i]>=a[i+1] for i in range(0,n-1) or a[i]<=a[i+1] for i in range(0,n-1)):\n",
    "            return True\n",
    "        else:\n",
    "            return False\n",
    "A = [1, 2, 3, 3]\n",
    "print(ismonotone(A))\n",
    "b = [6, 2, 4, 2]\n",
    "print(ismonotone(b))\n",
    "c=[4,3,2]\n",
    "print(ismonotone(c))\n",
    "d=[1]\n",
    "print(ismonotone(d))"
   ]
  },
  {
   "cell_type": "markdown",
   "id": "69964d48",
   "metadata": {},
   "source": [
    "#### "
   ]
  },
  {
   "cell_type": "code",
   "execution_count": null,
   "id": "8ac74916",
   "metadata": {},
   "outputs": [],
   "source": []
  }
 ],
 "metadata": {
  "kernelspec": {
   "display_name": "Python 3 (ipykernel)",
   "language": "python",
   "name": "python3"
  },
  "language_info": {
   "codemirror_mode": {
    "name": "ipython",
    "version": 3
   },
   "file_extension": ".py",
   "mimetype": "text/x-python",
   "name": "python",
   "nbconvert_exporter": "python",
   "pygments_lexer": "ipython3",
   "version": "3.9.13"
  }
 },
 "nbformat": 4,
 "nbformat_minor": 5
}
