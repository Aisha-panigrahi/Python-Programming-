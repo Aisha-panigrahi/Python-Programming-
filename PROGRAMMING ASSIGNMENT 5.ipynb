{
 "cells": [
  {
   "cell_type": "markdown",
   "id": "9e02c04a",
   "metadata": {},
   "source": [
    "## 1. Write a Python Program to Find LCM?"
   ]
  },
  {
   "cell_type": "code",
   "execution_count": 1,
   "id": "7d4292f0",
   "metadata": {},
   "outputs": [
    {
     "name": "stdout",
     "output_type": "stream",
     "text": [
      "The L.C.M. is 216\n"
     ]
    }
   ],
   "source": [
    "def lcm(x, y):\n",
    "\n",
    "   if x > y:\n",
    "       greater = x\n",
    "   else:\n",
    "       greater = y\n",
    "\n",
    "   while(True):\n",
    "       if((greater % x == 0) and (greater % y == 0)):\n",
    "           lcm = greater\n",
    "           break\n",
    "       greater += 1\n",
    "\n",
    "   return lcm\n",
    "\n",
    "num1 = 54\n",
    "num2 = 24\n",
    "\n",
    "print(\"The L.C.M. is\", lcm(num1, num2))"
   ]
  },
  {
   "cell_type": "markdown",
   "id": "91c8defe",
   "metadata": {},
   "source": [
    "## 2. Write a Python Program to Find HCF?"
   ]
  },
  {
   "cell_type": "code",
   "execution_count": 3,
   "id": "bb6870bc",
   "metadata": {},
   "outputs": [
    {
     "name": "stdout",
     "output_type": "stream",
     "text": [
      "The H.C.F. is 5\n"
     ]
    }
   ],
   "source": [
    "def hcf(x, y):\n",
    "\n",
    "    if x > y:\n",
    "        smaller = y\n",
    "    else:\n",
    "        smaller = x\n",
    "    for i in range(1, smaller+1):\n",
    "        if((x % i == 0) and (y % i == 0)):\n",
    "            hcf = i \n",
    "    return hcf\n",
    "\n",
    "num1 = 55 \n",
    "num2 = 15\n",
    "\n",
    "print(\"The H.C.F. is\", hcf(num1, num2))\n"
   ]
  },
  {
   "cell_type": "markdown",
   "id": "a9c0e439",
   "metadata": {},
   "source": [
    "## 3. Write a Python Program to Convert Decimal to Binary, Octal and Hexadecimal?"
   ]
  },
  {
   "cell_type": "code",
   "execution_count": 4,
   "id": "fdbdd9a1",
   "metadata": {},
   "outputs": [
    {
     "name": "stdout",
     "output_type": "stream",
     "text": [
      "010001"
     ]
    }
   ],
   "source": [
    "#decimal to binary\n",
    "\n",
    "def DecimalToBinary(number):\n",
    "     \n",
    "    if number >= 1:\n",
    "\n",
    "        DecimalToBinary(number // 2)\n",
    "\n",
    "    print(number % 2, end = '')\n",
    "\n",
    "# Driver Code\n",
    "if __name__ == '__main__':\n",
    "\n",
    "    decimal_val = 17      # decimal value\n",
    "    DecimalToBinary(decimal_val)     # Calling function"
   ]
  },
  {
   "cell_type": "code",
   "execution_count": 7,
   "id": "6e468eac",
   "metadata": {},
   "outputs": [
    {
     "name": "stdout",
     "output_type": "stream",
     "text": [
      "50"
     ]
    }
   ],
   "source": [
    "#decimal to octal\n",
    "\n",
    "def decToOctal(num):\n",
    "\n",
    "    octalNumber = [0] * 100\n",
    "\n",
    "    i = 0\n",
    "\n",
    "    while (num!= 0):\n",
    "\n",
    "        octalNumber[i] = num % 8\n",
    "\n",
    "        num = int(num / 8)\n",
    "\n",
    "        i += 1\n",
    "\n",
    "    for k in range(i - 1, -1, -1):\n",
    "\n",
    "        print(octalNumber[k], end=\"\")\n",
    "\n",
    "num = 40             # Driver Code\n",
    "\n",
    "decToOctal(num)      # Function Call\n"
   ]
  },
  {
   "cell_type": "code",
   "execution_count": 8,
   "id": "6e036861",
   "metadata": {},
   "outputs": [
    {
     "name": "stdout",
     "output_type": "stream",
     "text": [
      "9F1"
     ]
    }
   ],
   "source": [
    "#decimal to hexadecimal\n",
    "\n",
    "def decToHexa(num):\n",
    "\n",
    "    hexaDeciNumber = ['0'] * 100\n",
    "    i = 0\n",
    "    while(num!= 0):\n",
    "\n",
    "        temp = 0\n",
    "\n",
    "        temp = num % 16\n",
    "\n",
    "        # check if temp < 10\n",
    "\n",
    "        if(temp < 10):\n",
    "            hexaDeciNumber[i] = chr(temp + 48)\n",
    "            i = i + 1\n",
    "        else:\n",
    "            hexaDeciNumber[i] = chr(temp + 55)\n",
    "            i = i + 1\n",
    "        num = int(num / 16)\n",
    "\n",
    "    # printing hexadecimal number\n",
    "    j = i - 1\n",
    "    while(j >= 0):\n",
    "        print((hexaDeciNumber[j]), end=\"\")\n",
    "        j = j - 1\n",
    "\n",
    "# Driver Code\n",
    "\n",
    "num = 2545     # Driver Code\n",
    "\n",
    "decToHexa(num) #function call"
   ]
  },
  {
   "cell_type": "markdown",
   "id": "f88ce861",
   "metadata": {},
   "source": [
    "## 4. Write a Python Program To Find ASCII value of a character?"
   ]
  },
  {
   "cell_type": "code",
   "execution_count": 13,
   "id": "fc7635e2",
   "metadata": {},
   "outputs": [
    {
     "name": "stdout",
     "output_type": "stream",
     "text": [
      "Enter a value:A\n",
      "The ASCII value of 'A' is 65\n"
     ]
    }
   ],
   "source": [
    "c = input(\"Enter a value:\")\n",
    "print(\"The ASCII value of '\" + c + \"' is\", ord(c))"
   ]
  },
  {
   "cell_type": "markdown",
   "id": "4ce33b28",
   "metadata": {},
   "source": [
    "## 5. Write a Python Program to Make a Simple Calculator with 4 basic mathematical operations?"
   ]
  },
  {
   "cell_type": "code",
   "execution_count": 17,
   "id": "9c0bdac9",
   "metadata": {},
   "outputs": [
    {
     "name": "stdout",
     "output_type": "stream",
     "text": [
      "Enter the first number: 12\n",
      "Enter the second number: 12\n",
      "\n",
      "Choose an operation from the list:\n",
      "1. Addition\n",
      "2. Subtraction\n",
      "3. Multiplication\n",
      "4. Exponentiation\n",
      "5. Division\n",
      "6. Division with remainder\n",
      "    \n",
      "Enter the choice number: 1\n",
      "Sum: 12.0 + 12.0 = 24.0\n",
      "Do you want to continue? (Y,N): Y\n",
      "Enter the first number: 25\n",
      "Enter the second number: 15\n",
      "\n",
      "Choose an operation from the list:\n",
      "1. Addition\n",
      "2. Subtraction\n",
      "3. Multiplication\n",
      "4. Exponentiation\n",
      "5. Division\n",
      "6. Division with remainder\n",
      "    \n",
      "Enter the choice number: 2\n",
      "Difference: 25.0 - 15.0 = 10.0\n",
      "Do you want to continue? (Y,N): N\n",
      "Okay!\n"
     ]
    }
   ],
   "source": [
    "def prompt_menu():\n",
    "    a = float(input(\"Enter the first number: \"))\n",
    "    b = float(input(\"Enter the second number: \"))\n",
    "    print(\"\"\"\n",
    "Choose an operation from the list:\n",
    "1. Addition\n",
    "2. Subtraction\n",
    "3. Multiplication\n",
    "4. Exponentiation\n",
    "5. Division\n",
    "6. Division with remainder\n",
    "    \"\"\")\n",
    "    op = int(input(\"Enter the choice number: \"))\n",
    "    return a, b, op\n",
    "\n",
    "def calculate():\n",
    "    a, b, op = prompt_menu()\n",
    "    if op == 1:\n",
    "        print(\"Sum: {} + {} = {}\".format(a,b,a+b))\n",
    "    elif op == 2:\n",
    "        print(\"Difference: {} - {} = {}\".format(a,b,a-b))\n",
    "    elif op == 3:\n",
    "        print(\"Product: {} * {} = {}\".format(a,b,a*b))\n",
    "    elif op == 4:\n",
    "        print(\"Power: {}^{} = {}\".format(a,b,a**b))\n",
    "    elif op == 5:\n",
    "        try:\n",
    "            print(\"Quotient: {} / {} = {}\".format(a,b,a/b))\n",
    "        except:\n",
    "            print(\"Division by 0 not possible!\")\n",
    "    elif op == 6:\n",
    "        try:\n",
    "            print(\"Division with remainder: {} / {} = {} Remainder: {}\".format(a,b,a//b,a%b))\n",
    "        except:\n",
    "            print(\"Divsion by 0 not possible!\")\n",
    "    else:\n",
    "        print(\"No such choice!\")\n",
    "    loop()\n",
    "\n",
    "def loop():\n",
    "    choice = input(\"Do you want to continue? (Y,N): \")\n",
    "    if choice.upper() == \"Y\":\n",
    "        calculate()\n",
    "    elif choice.upper() == \"N\":\n",
    "        print(\"Okay!\")\n",
    "    else:\n",
    "        print(\"Invalid input!\")\n",
    "        loop()\n",
    "\n",
    "calculate()"
   ]
  },
  {
   "cell_type": "code",
   "execution_count": null,
   "id": "62ea1b0e",
   "metadata": {},
   "outputs": [],
   "source": []
  },
  {
   "cell_type": "code",
   "execution_count": null,
   "id": "ec80ec0a",
   "metadata": {},
   "outputs": [],
   "source": []
  }
 ],
 "metadata": {
  "kernelspec": {
   "display_name": "Python 3 (ipykernel)",
   "language": "python",
   "name": "python3"
  },
  "language_info": {
   "codemirror_mode": {
    "name": "ipython",
    "version": 3
   },
   "file_extension": ".py",
   "mimetype": "text/x-python",
   "name": "python",
   "nbconvert_exporter": "python",
   "pygments_lexer": "ipython3",
   "version": "3.9.13"
  }
 },
 "nbformat": 4,
 "nbformat_minor": 5
}
