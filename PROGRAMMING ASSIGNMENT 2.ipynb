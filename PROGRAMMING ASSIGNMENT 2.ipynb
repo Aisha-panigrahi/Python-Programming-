{
 "cells": [
  {
   "cell_type": "markdown",
   "id": "14a580f8",
   "metadata": {},
   "source": [
    "# 1. Write a Python program to convert kilometers to miles?"
   ]
  },
  {
   "cell_type": "code",
   "execution_count": 1,
   "id": "6c218707",
   "metadata": {},
   "outputs": [
    {
     "name": "stdout",
     "output_type": "stream",
     "text": [
      "Enter km to convert into miles:4.5\n",
      "4.500 kilometers is equals to 2.796 miles\n"
     ]
    }
   ],
   "source": [
    "kilometer = float(input(\"Enter km to convert into miles:\"))\n",
    "conv = 0.621371\n",
    "miles = kilometer * conv\n",
    "print('%0.3f kilometers is equals to %0.3f miles' %(kilometer,miles))"
   ]
  },
  {
   "cell_type": "markdown",
   "id": "3f3d7e95",
   "metadata": {},
   "source": [
    "# 2. Write a Python program to convert Celsius to Fahrenheit?"
   ]
  },
  {
   "cell_type": "code",
   "execution_count": 10,
   "id": "530f2e3b",
   "metadata": {},
   "outputs": [
    {
     "name": "stdout",
     "output_type": "stream",
     "text": [
      "celcius:30\n",
      "30.00 celcius is equals to 86.00 fahrenheit\n"
     ]
    }
   ],
   "source": [
    "celcius = int(input(\"celcius:\"))\n",
    "fahrenheit = (celcius * 1.8) + 32\n",
    "print('%.2f celcius is equals to %.2f fahrenheit' %(celcius,fahrenheit))"
   ]
  },
  {
   "cell_type": "markdown",
   "id": "e12c2a3b",
   "metadata": {},
   "source": [
    "# 3. Write a Python program to display calendar?"
   ]
  },
  {
   "cell_type": "code",
   "execution_count": 1,
   "id": "1ee1fde3",
   "metadata": {},
   "outputs": [
    {
     "name": "stdout",
     "output_type": "stream",
     "text": [
      "Enter the year:2000\n",
      "Enter the month:9\n",
      "   September 2000\n",
      "Mo Tu We Th Fr Sa Su\n",
      "             1  2  3\n",
      " 4  5  6  7  8  9 10\n",
      "11 12 13 14 15 16 17\n",
      "18 19 20 21 22 23 24\n",
      "25 26 27 28 29 30\n",
      "\n"
     ]
    }
   ],
   "source": [
    "import calendar\n",
    "\n",
    "yy = int(input(\"Enter the year:\"))\n",
    "mm = int(input(\"Enter the month:\"))\n",
    "\n",
    "print(calendar.month(yy,mm))"
   ]
  },
  {
   "cell_type": "markdown",
   "id": "b7c713c0",
   "metadata": {},
   "source": [
    "# 4. Write a Python program to solve quadratic equation?"
   ]
  },
  {
   "cell_type": "code",
   "execution_count": 7,
   "id": "9927bb11",
   "metadata": {},
   "outputs": [
    {
     "name": "stdout",
     "output_type": "stream",
     "text": [
      "a:1\n",
      "b:10\n",
      "c:-24\n",
      " real and different roots \n",
      "2.0\n",
      "-12.0\n"
     ]
    }
   ],
   "source": [
    "import math\n",
    "def equationroots( a, b, c):\n",
    "    dis = b * b - 4 * a * c \n",
    "    sqrt_val = math.sqrt(abs(dis)) \n",
    "    \n",
    "    if dis > 0: \n",
    "        print(\" real and different roots \") \n",
    "        print((-b + sqrt_val)/(2 * a)) \n",
    "        print((-b - sqrt_val)/(2 * a)) \n",
    "      \n",
    "    elif dis == 0: \n",
    "        print(\" real and same roots\") \n",
    "        print(-b / (2 * a)) \n",
    "      \n",
    "    else:\n",
    "        print(\"Complex Roots\") \n",
    "        print(- b / (2 * a), \" + i\", sqrt_val) \n",
    "        print(- b / (2 * a), \" - i\", sqrt_val) \n",
    "  \n",
    "a = int(input(\"a:\"))\n",
    "b = int(input(\"b:\"))\n",
    "c = int(input(\"c:\"))\n",
    "if a == 0: \n",
    "     print(\"Input correct quadratic equation\") \n",
    "  \n",
    "else:\n",
    "    equationroots(a, b, c)"
   ]
  },
  {
   "cell_type": "markdown",
   "id": "f46992f5",
   "metadata": {},
   "source": [
    "# 5.Write a Python program to swap two variables without temp variable?"
   ]
  },
  {
   "cell_type": "code",
   "execution_count": 9,
   "id": "c226a2df",
   "metadata": {},
   "outputs": [
    {
     "name": "stdout",
     "output_type": "stream",
     "text": [
      "p:20\n",
      "q:30\n",
      "value of p after swapping: 30\n",
      "value of q after swapping: 20\n"
     ]
    }
   ],
   "source": [
    "p = int(input(\"p:\"))\n",
    "q = int(input(\"q:\"))\n",
    "\n",
    "p , q = q , p\n",
    "print(\"value of p after swapping:\",p)\n",
    "print(\"value of q after swapping:\",q)"
   ]
  },
  {
   "cell_type": "code",
   "execution_count": null,
   "id": "d64e0f6f",
   "metadata": {},
   "outputs": [],
   "source": []
  }
 ],
 "metadata": {
  "kernelspec": {
   "display_name": "Python 3 (ipykernel)",
   "language": "python",
   "name": "python3"
  },
  "language_info": {
   "codemirror_mode": {
    "name": "ipython",
    "version": 3
   },
   "file_extension": ".py",
   "mimetype": "text/x-python",
   "name": "python",
   "nbconvert_exporter": "python",
   "pygments_lexer": "ipython3",
   "version": "3.9.13"
  }
 },
 "nbformat": 4,
 "nbformat_minor": 5
}
